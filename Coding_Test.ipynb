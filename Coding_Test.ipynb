{
  "nbformat": 4,
  "nbformat_minor": 0,
  "metadata": {
    "colab": {
      "provenance": []
    },
    "kernelspec": {
      "name": "python3",
      "display_name": "Python 3"
    },
    "language_info": {
      "name": "python"
    }
  },
  "cells": [
    {
      "cell_type": "code",
      "execution_count": 1,
      "metadata": {
        "colab": {
          "base_uri": "https://localhost:8080/"
        },
        "id": "TDfF6Ndhycgw",
        "outputId": "48acb643-15ed-4fd2-fa18-6da669161804"
      },
      "outputs": [
        {
          "output_type": "stream",
          "name": "stdout",
          "text": [
            "Enter a number:1234567890\n",
            "1\n",
            "3\n",
            "8\n",
            "0\n",
            "12\n",
            "CODE SUCCESS\n"
          ]
        }
      ],
      "source": [
        "# Print whether the sum of the first, third, third-last, last digits of a 10 digit number is divisble by 3 or not\n",
        "s=0\n",
        "n=int(input(\"Enter a number:\"))\n",
        "a=n//1000000000\n",
        "print(a)\n",
        "x=n//10000000\n",
        "b=x%10\n",
        "y=n%1000\n",
        "c=y//100\n",
        "d=n%10\n",
        "print(b)\n",
        "print(c)\n",
        "print(d)\n",
        "s=a+b+c+d\n",
        "print(s)\n",
        "if s%3==0:\n",
        "    print(\"CODE SUCCESS\")\n",
        "else:\n",
        "    print(\"FAILED\")"
      ]
    },
    {
      "cell_type": "code",
      "source": [
        "# Who got more points\n",
        "a=int(input())\n",
        "b=int(input())\n",
        "c=int(input())\n",
        "if a>b and a>c:\n",
        "    print(\"Harry got the most points!\")\n",
        "elif b>c:\n",
        "    print(\"Ron got the most points!\")\n",
        "else:\n",
        "    print(\"Hermione got the most points!\")"
      ],
      "metadata": {
        "colab": {
          "base_uri": "https://localhost:8080/"
        },
        "id": "ORmtYIJdysZn",
        "outputId": "d1247235-0d17-406c-8754-650898320698"
      },
      "execution_count": 2,
      "outputs": [
        {
          "output_type": "stream",
          "name": "stdout",
          "text": [
            "12\n",
            "67\n",
            "873\n",
            "Hermione got the most points!\n"
          ]
        }
      ]
    }
  ]
}